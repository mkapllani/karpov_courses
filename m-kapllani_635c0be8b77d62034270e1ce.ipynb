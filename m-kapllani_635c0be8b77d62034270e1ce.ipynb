{
    "cells": [
        {
            "cell_type": "code",
            "execution_count": 6,
            "metadata": {},
            "outputs": [],
            "source": [
                "import numpy as np\n",
                "import pandas as pd\n",
                "from scipy import stats\n",
                "from scipy.stats import norm\n",
                "import matplotlib.pyplot as plt\n",
                "\n",
                "from tqdm.auto import tqdm\n",
                "\n",
                "plt.style.use('ggplot')"
            ]
        },
        {
            "cell_type": "code",
            "execution_count": 36,
            "metadata": {},
            "outputs": [],
            "source": [
                "df = pd.read_csv('hw_bootstrap.csv', sep=';')"
            ]
        },
        {
            "cell_type": "code",
            "execution_count": 37,
            "metadata": {},
            "outputs": [],
            "source": [
                "# \u0417\u0430\u043c\u0435\u043d\u0438\u043c \u0437\u0430\u043f\u044f\u0442\u0443\u044e \u043d\u0430 \u0442\u043e\u0447\u043a\u0443, \u0447\u0442\u043e\u0431\u044b \u043f\u0440\u0438\u0432\u0435\u0441\u0442\u0438 \u043a \u0442\u0438\u043f\u0443 float\n",
                "df['value'] = df.value.apply(lambda x: x.replace(',','.'))"
            ]
        },
        {
            "cell_type": "code",
            "execution_count": 38,
            "metadata": {},
            "outputs": [
                {
                    "data": {
                        "text/html": [
                            "<div>\n",
                            "<style scoped>\n",
                            "    .dataframe tbody tr th:only-of-type {\n",
                            "        vertical-align: middle;\n",
                            "    }\n",
                            "\n",
                            "    .dataframe tbody tr th {\n",
                            "        vertical-align: top;\n",
                            "    }\n",
                            "\n",
                            "    .dataframe thead th {\n",
                            "        text-align: right;\n",
                            "    }\n",
                            "</style>\n",
                            "<table border=\"1\" class=\"dataframe\">\n",
                            "  <thead>\n",
                            "    <tr style=\"text-align: right;\">\n",
                            "      <th></th>\n",
                            "      <th>Unnamed: 0</th>\n",
                            "      <th>value</th>\n",
                            "      <th>experimentVariant</th>\n",
                            "    </tr>\n",
                            "  </thead>\n",
                            "  <tbody>\n",
                            "    <tr>\n",
                            "      <th>0</th>\n",
                            "      <td>1</td>\n",
                            "      <td>10.3804953740268</td>\n",
                            "      <td>Control</td>\n",
                            "    </tr>\n",
                            "    <tr>\n",
                            "      <th>1</th>\n",
                            "      <td>2</td>\n",
                            "      <td>9.54686666784264</td>\n",
                            "      <td>Control</td>\n",
                            "    </tr>\n",
                            "    <tr>\n",
                            "      <th>2</th>\n",
                            "      <td>3</td>\n",
                            "      <td>11.0882146509904</td>\n",
                            "      <td>Control</td>\n",
                            "    </tr>\n",
                            "    <tr>\n",
                            "      <th>3</th>\n",
                            "      <td>4</td>\n",
                            "      <td>10.1472740570122</td>\n",
                            "      <td>Control</td>\n",
                            "    </tr>\n",
                            "    <tr>\n",
                            "      <th>4</th>\n",
                            "      <td>5</td>\n",
                            "      <td>9.78980767524929</td>\n",
                            "      <td>Control</td>\n",
                            "    </tr>\n",
                            "    <tr>\n",
                            "      <th>...</th>\n",
                            "      <td>...</td>\n",
                            "      <td>...</td>\n",
                            "      <td>...</td>\n",
                            "    </tr>\n",
                            "    <tr>\n",
                            "      <th>995</th>\n",
                            "      <td>996</td>\n",
                            "      <td>1000</td>\n",
                            "      <td>Treatment</td>\n",
                            "    </tr>\n",
                            "    <tr>\n",
                            "      <th>996</th>\n",
                            "      <td>997</td>\n",
                            "      <td>1200</td>\n",
                            "      <td>Treatment</td>\n",
                            "    </tr>\n",
                            "    <tr>\n",
                            "      <th>997</th>\n",
                            "      <td>998</td>\n",
                            "      <td>1500</td>\n",
                            "      <td>Treatment</td>\n",
                            "    </tr>\n",
                            "    <tr>\n",
                            "      <th>998</th>\n",
                            "      <td>999</td>\n",
                            "      <td>2000</td>\n",
                            "      <td>Treatment</td>\n",
                            "    </tr>\n",
                            "    <tr>\n",
                            "      <th>999</th>\n",
                            "      <td>1000</td>\n",
                            "      <td>3000</td>\n",
                            "      <td>Treatment</td>\n",
                            "    </tr>\n",
                            "  </tbody>\n",
                            "</table>\n",
                            "<p>1000 rows \u00d7 3 columns</p>\n",
                            "</div>"
                        ],
                        "text/plain": [
                            "     Unnamed: 0             value experimentVariant\n",
                            "0             1  10.3804953740268           Control\n",
                            "1             2  9.54686666784264           Control\n",
                            "2             3  11.0882146509904           Control\n",
                            "3             4  10.1472740570122           Control\n",
                            "4             5  9.78980767524929           Control\n",
                            "..          ...               ...               ...\n",
                            "995         996              1000         Treatment\n",
                            "996         997              1200         Treatment\n",
                            "997         998              1500         Treatment\n",
                            "998         999              2000         Treatment\n",
                            "999        1000              3000         Treatment\n",
                            "\n",
                            "[1000 rows x 3 columns]"
                        ]
                    },
                    "execution_count": 38,
                    "metadata": {},
                    "output_type": "execute_result"
                }
            ],
            "source": [
                "df"
            ]
        },
        {
            "cell_type": "code",
            "execution_count": 39,
            "metadata": {
                "scrolled": true
            },
            "outputs": [],
            "source": [
                "df = df.astype({'value': 'float64'})\n"
            ]
        },
        {
            "cell_type": "code",
            "execution_count": 40,
            "metadata": {
                "scrolled": false
            },
            "outputs": [
                {
                    "data": {
                        "text/plain": [
                            "Ttest_indResult(statistic=-2.0729020485356604, pvalue=0.038437593613498765)"
                        ]
                    },
                    "execution_count": 40,
                    "metadata": {},
                    "output_type": "execute_result"
                }
            ],
            "source": [
                "# t_test\n",
                "stats.ttest_ind(df.query('experimentVariant == \"Control\"').value, df.query('experimentVariant == \"Treatment\"').value )"
            ]
        },
        {
            "cell_type": "code",
            "execution_count": 42,
            "metadata": {
                "scrolled": true
            },
            "outputs": [
                {
                    "data": {
                        "text/plain": [
                            "MannwhitneyuResult(statistic=124189.5, pvalue=0.8592148582485579)"
                        ]
                    },
                    "execution_count": 42,
                    "metadata": {},
                    "output_type": "execute_result"
                }
            ],
            "source": [
                "# U-test\n",
                "stats.mannwhitneyu(df.query('experimentVariant == \"Control\"').value, df.query('experimentVariant == \"Treatment\"').value )"
            ]
        },
        {
            "cell_type": "code",
            "execution_count": null,
            "metadata": {},
            "outputs": [],
            "source": [
                "# \u0431\u0443\u0442\u0441\u0442\u0440\u0430\u043f \u0441\u0440\u0435\u0434\u043d\u0438\u0445"
            ]
        },
        {
            "cell_type": "code",
            "execution_count": 43,
            "metadata": {},
            "outputs": [],
            "source": [
                "def get_bootstrap(\n",
                "    data_column_1, # \u0447\u0438\u0441\u043b\u043e\u0432\u044b\u0435 \u0437\u043d\u0430\u0447\u0435\u043d\u0438\u044f \u043f\u0435\u0440\u0432\u043e\u0439 \u0432\u044b\u0431\u043e\u0440\u043a\u0438\n",
                "    data_column_2, # \u0447\u0438\u0441\u043b\u043e\u0432\u044b\u0435 \u0437\u043d\u0430\u0447\u0435\u043d\u0438\u044f \u0432\u0442\u043e\u0440\u043e\u0439 \u0432\u044b\u0431\u043e\u0440\u043a\u0438\n",
                "    boot_it = 1000, # \u043a\u043e\u043b\u0438\u0447\u0435\u0441\u0442\u0432\u043e \u0431\u0443\u0442\u0441\u0442\u0440\u044d\u043f-\u043f\u043e\u0434\u0432\u044b\u0431\u043e\u0440\u043e\u043a\n",
                "    statistic = np.mean, # \u0438\u043d\u0442\u0435\u0440\u0435\u0441\u0443\u044e\u0449\u0430\u044f \u043d\u0430\u0441 \u0441\u0442\u0430\u0442\u0438\u0441\u0442\u0438\u043a\u0430\n",
                "    bootstrap_conf_level = 0.95 # \u0443\u0440\u043e\u0432\u0435\u043d\u044c \u0437\u043d\u0430\u0447\u0438\u043c\u043e\u0441\u0442\u0438\n",
                "):\n",
                "    boot_data = []\n",
                "    for i in tqdm(range(boot_it)): # \u0438\u0437\u0432\u043b\u0435\u043a\u0430\u0435\u043c \u043f\u043e\u0434\u0432\u044b\u0431\u043e\u0440\u043a\u0438\n",
                "        samples_1 = data_column_1.sample(\n",
                "            len(data_column_1), \n",
                "            replace = True # \u043f\u0430\u0440\u0430\u043c\u0435\u0442\u0440 \u0432\u043e\u0437\u0432\u0440\u0430\u0449\u0435\u043d\u0438\u044f\n",
                "        ).values\n",
                "        \n",
                "        samples_2 = data_column_2.sample(\n",
                "            len(data_column_1), \n",
                "            replace = True\n",
                "        ).values\n",
                "        \n",
                "        boot_data.append(statistic(samples_1)-statistic(samples_2)) # mean() - \u043f\u0440\u0438\u043c\u0435\u043d\u044f\u0435\u043c \u0441\u0442\u0430\u0442\u0438\u0441\u0442\u0438\u043a\u0443\n",
                "        \n",
                "    pd_boot_data = pd.DataFrame(boot_data)\n",
                "        \n",
                "    left_quant = (1 - bootstrap_conf_level)/2\n",
                "    right_quant = 1 - (1 - bootstrap_conf_level) / 2\n",
                "    quants = pd_boot_data.quantile([left_quant, right_quant])\n",
                "        \n",
                "    p_1 = norm.cdf(\n",
                "        x = 0, \n",
                "        loc = np.mean(boot_data), \n",
                "        scale = np.std(boot_data)\n",
                "    )\n",
                "    p_2 = norm.cdf(\n",
                "        x = 0, \n",
                "        loc = -np.mean(boot_data), \n",
                "        scale = np.std(boot_data)\n",
                "    )\n",
                "    p_value = min(p_1, p_2) * 2\n",
                "        \n",
                "    # \u0412\u0438\u0437\u0443\u0430\u043b\u0438\u0437\u0430\u0446\u0438\u044f\n",
                "    _, _, bars = plt.hist(pd_boot_data[0], bins = 50)\n",
                "    for bar in bars:\n",
                "        if bar.get_x() <= quants.iloc[0][0] or bar.get_x() >= quants.iloc[1][0]:\n",
                "            bar.set_facecolor('red')\n",
                "        else: \n",
                "            bar.set_facecolor('grey')\n",
                "            bar.set_edgecolor('black')\n",
                "    \n",
                "    plt.style.use('ggplot')\n",
                "    plt.vlines(quants,ymin=0,ymax=50,linestyle='--')\n",
                "    plt.xlabel('boot_data')\n",
                "    plt.ylabel('frequency')\n",
                "    plt.title(\"Histogram of boot_data\")\n",
                "    plt.show()\n",
                "       \n",
                "    return {\"boot_data\": boot_data, \n",
                "            \"quants\": quants, \n",
                "            \"p_value\": p_value}"
            ]
        },
        {
            "cell_type": "code",
            "execution_count": 44,
            "metadata": {},
            "outputs": [
                {
                    "data": {
                        "application/vnd.jupyter.widget-view+json": {
                            "model_id": "45ce13de80e64a90b67eb8099e72b54a",
                            "version_major": 2,
                            "version_minor": 0
                        },
                        "text/plain": [
                            "HBox(children=(FloatProgress(value=0.0, max=1000.0), HTML(value='')))"
                        ]
                    },
                    "metadata": {},
                    "output_type": "display_data"
                },
                {
                    "name": "stdout",
                    "output_type": "stream",
                    "text": [
                        "\n"
                    ]
                },
                {
                    "data": {
                        "image/png": "[encoded data removed]",
                        "text/plain": [
                            "<Figure size 432x288 with 1 Axes>"
                        ]
                    },
                    "metadata": {},
                    "output_type": "display_data"
                }
            ],
            "source": [
                "booted_data = get_bootstrap(df.query('experimentVariant == \"Control\"').value, df.query('experimentVariant == \"Treatment\"').value )"
            ]
        },
        {
            "cell_type": "code",
            "execution_count": 45,
            "metadata": {},
            "outputs": [
                {
                    "data": {
                        "text/plain": [
                            "0.03624093074374447"
                        ]
                    },
                    "execution_count": 45,
                    "metadata": {},
                    "output_type": "execute_result"
                }
            ],
            "source": [
                "booted_data[\"p_value\"]"
            ]
        },
        {
            "cell_type": "code",
            "execution_count": 46,
            "metadata": {},
            "outputs": [
                {
                    "ename": "SyntaxError",
                    "evalue": "invalid syntax (<ipython-input-46-70b52d98e4da>, line 1)",
                    "output_type": "error",
                    "traceback": [
                        "\u001b[0;36m  File \u001b[0;32m\"<ipython-input-46-70b52d98e4da>\"\u001b[0;36m, line \u001b[0;32m1\u001b[0m\n\u001b[0;31m    \u0421\u043e\u0433\u043b\u0430\u0441\u043d\u0430 \u0431\u0443\u0442\u0441\u0442\u0440\u0430\u043f\u0443 \u0438 t-\u0442\u0435\u0441\u0442\u0443, \u043d\u0443\u0436\u043d\u043e \u043e\u0442\u043a\u043b\u043e\u043d\u0438\u0442\u044c \u043d\u0443\u043b\u0435\u0432\u0443\u044e \u0433\u0438\u043f\u043e\u0442\u0435\u0437\u0443 \u043e \u0442\u043e\u043c, \u0447\u0442\u043e \u0440\u0435\u0437\u0443\u043b\u044c\u0442\u0430\u0442\u044b \u043a\u043e\u043d\u0442\u0440\u043e\u043b\u044c\u043d\u043e\u0439 \u0433\u0440\u0443\u043f\u043f\u044b \u043d\u0435 \u043e\u0442\u043b\u0438\u0447\u0430\u044e\u0442\u0441\u044f \u043e\u0442 \u0442\u0435\u0441\u0442\u043e\u0432\u043e\u0439.\u001b[0m\n\u001b[0m                     ^\u001b[0m\n\u001b[0;31mSyntaxError\u001b[0m\u001b[0;31m:\u001b[0m invalid syntax\n"
                    ]
                }
            ],
            "source": [
                "#\u0421\u043e\u0433\u043b\u0430\u0441\u043d\u043e \u0431\u0443\u0442\u0441\u0442\u0440\u0430\u043f\u0443 \u0438 t-\u0442\u0435\u0441\u0442\u0443, \u043d\u0443\u0436\u043d\u043e \u043e\u0442\u043a\u043b\u043e\u043d\u0438\u0442\u044c \u043d\u0443\u043b\u0435\u0432\u0443\u044e \u0433\u0438\u043f\u043e\u0442\u0435\u0437\u0443 \u043e \u0442\u043e\u043c,\n",
                "#\u0447\u0442\u043e \u0440\u0435\u0437\u0443\u043b\u044c\u0442\u0430\u0442\u044b \u043a\u043e\u043d\u0442\u0440\u043e\u043b\u044c\u043d\u043e\u0439 \u0433\u0440\u0443\u043f\u043f\u044b \u043d\u0435 \u043e\u0442\u043b\u0438\u0447\u0430\u044e\u0442\u0441\u044f \u043e\u0442 \u0442\u0435\u0441\u0442\u043e\u0432\u043e\u0439.\n",
                "#\u0421\u043b\u0435\u0434\u043e\u0432\u0430\u0442\u0435\u043b\u044c\u043d\u043e, \u0441\u0440\u0435\u0434\u043d\u0438\u0435 \u0432 \u0433\u0440\u0443\u043f\u043f\u0430\u0445 \u0441\u0438\u043b\u044c\u043d\u043e \u0440\u0430\u0437\u043b\u0438\u0447\u0430\u044e\u0442\u0441\u044f\n",
                "# U-\u0442\u0435\u0441\u0442 \u0434\u0430\u0451\u0442 \u043f\u0440\u043e\u0442\u0438\u0432\u043e\u043f\u043e\u043b\u043e\u0436\u043d\u044b\u0439 \u0440\u0435\u0437\u0443\u043b\u044c\u0442\u0430\u0442"
            ]
        },
        {
            "cell_type": "code",
            "execution_count": 18,
            "metadata": {
                "scrolled": true
            },
            "outputs": [
                {
                    "data": {
                        "text/plain": [
                            "0        10\n",
                            "1         9\n",
                            "2        11\n",
                            "3        10\n",
                            "4         9\n",
                            "       ... \n",
                            "995    1000\n",
                            "996    1200\n",
                            "997    1500\n",
                            "998    2000\n",
                            "999    3000\n",
                            "Name: value, Length: 1000, dtype: object"
                        ]
                    },
                    "execution_count": 18,
                    "metadata": {},
                    "output_type": "execute_result"
                }
            ],
            "source": [
                "df"
            ]
        },
        {
            "cell_type": "markdown",
            "metadata": {},
            "source": [
                "# \u041e\u0442\u0432\u0435\u0442 \u043f\u0440\u0435\u043f\u043e\u0434\u0430\u0432\u0430\u0442\u0435\u043b\u044f\n",
                "\n",
                "\n",
                "\u0412\u0435\u0440\u043d\u043e \u0441\u043b\u0435\u0434\u0443\u044e\u0449\u0435\u0435 \u0443\u0442\u0432\u0435\u0440\u0436\u0434\u0435\u043d\u0438\u0435: \u041c\u0430\u043d\u043d-\u0423\u0438\u0442\u043d\u0438 \u0438 \u0411\u0443\u0442\u0441\u0442\u0440\u0430\u043f \u043f\u0440\u043e\u0432\u0435\u0440\u044f\u044e\u0442 \u0440\u0430\u0437\u043d\u044b\u0435 \u0433\u0438\u043f\u043e\u0442\u0435\u0437\u044b. \u0421 \u043f\u043e\u043c\u043e\u0449\u044c\u044e \u0431\u0443\u0442\u0441\u0442\u0440\u0430\u043f\u0430 \u043c\u044b \u043f\u0440\u043e\u0432\u0435\u0440\u044f\u0435\u043c \u043d\u0443\u043b\u0435\u0432\u0443\u044e \u0433\u0438\u043f\u043e\u0442\u0435\u0437\u0443 \u043e \u0440\u0430\u0432\u0435\u043d\u0441\u0442\u0432\u0435 \u0441\u0440\u0435\u0434\u043d\u0438\u0445, \u0430 \u041c\u0430\u043d\u043d-\u0423\u0438\u0442\u043d\u0438 \u043e \u0440\u0430\u0432\u0435\u043d\u0441\u0442\u0432\u0435 \u0440\u0430\u0441\u043f\u0440\u0435\u0434\u0435\u043b\u0435\u043d\u0438\u0439. \u0427\u0442\u043e \u0437\u043d\u0430\u0447\u0438\u0442 \u0440\u0430\u0432\u0435\u043d\u0441\u0442\u0432\u043e \u0440\u0430\u0441\u043f\u0440\u0435\u0434\u0435\u043b\u0435\u043d\u0438\u0439? \u042d\u0442\u043e \u0437\u043d\u0430\u0447\u0438\u0442, \u0447\u0442\u043e \u0441\u043b\u0443\u0447\u0430\u0439\u043d\u043e \u0432\u044b\u0431\u0440\u0430\u043d\u043d\u043e\u0435 \u0437\u043d\u0430\u0447\u0435\u043d\u0438\u0435 \u0438\u0437 \u043e\u0434\u043d\u043e\u0439 \u0432\u044b\u0431\u043e\u0440\u043a\u0438 \u043c\u043e\u0436\u0435\u0442 \u0431\u044b\u0442\u044c \u0440\u0430\u0432\u043d\u043e\u0432\u0435\u0440\u043e\u044f\u0442\u043d\u043e \u0431\u043e\u043b\u044c\u0448\u0435 \u0438\u043b\u0438 \u043c\u0435\u043d\u044c\u0448\u0435 \u0441\u043b\u0443\u0447\u0430\u0439\u043d\u043e\u0433\u043e \u0437\u043d\u0430\u0447\u0435\u043d\u0438\u044f \u0438\u0437 \u0434\u0440\u0443\u0433\u043e\u0439 \u0432\u044b\u0431\u043e\u0440\u043a\u0438 (\u0438\u043d\u043e\u0433\u0434\u0430 \u043f\u0443\u0442\u0430\u044e\u0442 \u0441 \u0440\u0430\u0432\u0435\u043d\u0441\u0442\u0432\u043e\u043c \u043c\u0435\u0434\u0438\u0430\u043d, \u043d\u043e \u043d\u0430 \u0441\u0430\u043c\u043e\u043c \u0434\u0435\u043b\u0435 \u043f\u0440\u043e\u0432\u0435\u0440\u044f\u0435\u0442\u0441\u044f \u043d\u0435 \u0442\u043e\u043b\u044c\u043a\u043e \u043c\u0435\u0434\u0438\u0430\u043d\u0430). \u0422\u0430\u043a\u0436\u0435 \u0432\u044b \u0432\u0435\u0440\u043d\u043e \u043f\u0440\u0438\u043c\u0435\u043d\u0438\u043b\u0438 \u043a\u0440\u0438\u0442\u0435\u0440\u0438\u0438 \u0438 \u043d\u0430\u043f\u0438\u0441\u0430\u043b\u0438 \u043a\u043e\u0434\n",
                "\n",
                "\n",
                "\u041f\u0440\u043e \u0440\u0430\u0437\u043d\u043e\u0435 \u043a\u043e\u043b\u0438\u0447\u0435\u0441\u0442\u0432\u043e \u043d\u0430\u0431\u043b\u044e\u0434\u0435\u043d\u0438\u0439 \u0432 \u0432\u044b\u0431\u043e\u0440\u043a\u0430\u0445: \u041c\u0430\u043d\u043d-\u0423\u0438\u0442\u043d\u0438 \u043a\u0430\u043a \u0438 \u043b\u044e\u0431\u043e\u0439 \u0441\u0442\u0430\u0442\u0438\u0441\u0442\u0438\u0447\u0435\u0441\u043a\u0438\u0439 \u043e\u0446\u0435\u043d\u0449\u0438\u043a \u043d\u0435 \u043e\u0447\u0435\u043d\u044c \u043f\u0440\u0438\u0432\u0435\u0442\u043b\u0438\u0432 \u043a \u0434\u0438\u0441\u0431\u0430\u043b\u0430\u043d\u0441\u0443. \u042d\u0442\u043e \u0441\u043a\u0430\u0437\u044b\u0432\u0430\u0435\u0442\u0441\u044f \u0432 \u043f\u0435\u0440\u0432\u0443\u044e \u043e\u0447\u0435\u0440\u0435\u0434\u044c \u043d\u0430 \u043c\u043e\u0449\u043d\u043e\u0441\u0442\u0438 \u043a\u0440\u0438\u0442\u0435\u0440\u0438\u044f \u2013 \u0447\u0435\u043c \u0441\u0438\u043b\u044c\u043d\u0435\u0435 \u0434\u0438\u0441\u0431\u0430\u043b\u0430\u043d\u0441, \u0442\u0435\u043c \u0440\u0435\u0436\u0435 \u043a\u0440\u0438\u0442\u0435\u0440\u0438\u0439 \u0431\u0443\u0434\u0435\u0442 \u043e\u0431\u043d\u0430\u0440\u0443\u0436\u0438\u0432\u0430\u0442\u044c \u0440\u0435\u0430\u043b\u044c\u043d\u0443\u044e \u0440\u0430\u0437\u043d\u0438\u0446\u0443 (\u044d\u0444\u0444\u0435\u043a\u0442). \u041f\u043e\u0434\u0440\u043e\u0431\u043d\u0435\u0435 \u0442\u0443\u0442 https://stats.stackexchange.com/questions/40342/mann-whitney-u-test-with-unequal-sample-sizes\n",
                "\n",
                "## \u0418\u0442\u043e\u0433\u043e\n",
                "* \u0422\u0435\u0441\u0442\u043e\u0432\u0430\u044f \u0432\u044b\u0431\u043e\u0440\u043a\u0430 \u0438\u043c\u0435\u0435\u0442 \u0431\u043e\u043b\u044c\u0448\u0438\u0435 \u0432\u044b\u0431\u0440\u043e\u0441\u044b, \u0447\u0442\u043e \u0441\u0438\u043b\u044c\u043d\u043e \u0438\u0441\u043a\u0430\u0436\u0430\u0435\u0442 \u043d\u0430\u043c \u0441\u0440\u0435\u0434\u043d\u0435\u0435 \u0437\u043d\u0430\u0447\u0435\u043d\u0438\u0435\n",
                "* \u041f\u0440\u0438\u043c\u0435\u043d\u044f\u044f \u0431\u0443\u0442\u0441\u0442\u0440\u0430\u043f \u0441 \u043e\u0446\u0435\u043d\u043a\u043e\u0439 \u0441\u0440\u0435\u0434\u043d\u0435\u0433\u043e, \u043c\u044b \u043c\u043e\u0433\u043b\u0438 \u0431\u044b \u043e\u0442\u043a\u043b\u043e\u043d\u0438\u0442\u044c \u043d\u0443\u043b\u0435\u0432\u0443\u044e \u0433\u0438\u043f\u043e\u0442\u0435\u0437\u0443 \u043e \u0440\u0430\u0432\u0435\u043d\u0441\u0442\u0432\u0435 \u0441\u0440\u0435\u0434\u043d\u0438\u0445 \u0438 \u0441\u0434\u0435\u043b\u0430\u0442\u044c \u0432\u044b\u0432\u043e\u0434, \u0447\u0442\u043e \u0442\u0435\u0441\u0442\u043e\u0432\u0430\u044f \u0438 \u043a\u043e\u043d\u0442\u0440\u043e\u043b\u044c\u043d\u0430\u044f \u0432\u044b\u0431\u043e\u0440\u043a\u0430 \u0438\u043c\u0435\u044e\u0442 \u0440\u0430\u0437\u043b\u0438\u0447\u0438\u044f\n",
                "* \u041e\u0434\u043d\u0430\u043a\u043e, \u0442\u043e\u0442 \u0436\u0435 \u0431\u0443\u0442\u0441\u0442\u0440\u0430\u043f, \u043d\u043e \u0443\u0436\u0435 \u043f\u043e \u043c\u0435\u0434\u0438\u0430\u043d\u0435 \u043d\u0435 \u0434\u0430\u0435\u0442 \u043d\u0430\u043c \u043e\u0442\u043a\u043b\u043e\u043d\u0438\u0442\u044c \u043d\u0443\u043b\u0435\u0432\u0443\u044e \u0433\u0438\u043f\u043e\u0442\u0435\u0437\u0443, \u0442\u0430\u043a \u043a\u0430\u043a p-value \u0441\u0438\u043b\u044c\u043d\u043e \u0431\u043e\u043b\u044c\u0448\u0435 0.05, \u0442.\u043a. \u0437\u0434\u0435\u0441\u044c \u043f\u0440\u043e\u0432\u0435\u0440\u044f\u0435\u0442\u0441\u044f \u0434\u0440\u0443\u0433\u0430\u044f \u0433\u0438\u043f\u043e\u0442\u0435\u0437\u0430\n",
                "* U-\u043a\u0440\u0438\u0442\u0435\u0440\u0438\u0439 \u041c\u0430\u043d\u043d\u0430-\u0423\u0438\u0442\u043d\u0438 \u0442\u0430\u043a \u0436\u0435 \u043d\u0435 \u0434\u0430\u043b \u0431\u044b \u043d\u0430\u043c \u043e\u0442\u043a\u043b\u043e\u043d\u0438\u0442\u044c \u043d\u0443\u043b\u0435\u0432\u0443\u044e \u0433\u0438\u043f\u043e\u0442\u0435\u0437\u0443. \u041e\u0446\u0435\u043d\u043a\u0438 pvalue \u0442\u0430\u043a \u0436\u0435 \u043d\u0430\u043f\u0440\u0430\u0432\u043b\u0435\u043d\u044b \u043a\u0430\u043a \u0443 \u0431\u0443\u0442\u0441\u0442\u0440\u0430\u043f\u0438\u0440\u043e\u0432\u0430\u043d\u0438\u044f \u043c\u0435\u0434\u0438\u0430\u043d\u044b\n",
                "\n",
                "\u0425\u043e\u0440\u043e\u0448\u0435\u0433\u043e \u0434\u043d\u044f!"
            ]
        }
    ],
    "metadata": {
        "kernelspec": {
            "display_name": "Python 3",
            "language": "python",
            "name": "python3"
        },
        "language_info": {
            "codemirror_mode": {
                "name": "ipython",
                "version": 3
            },
            "file_extension": ".py",
            "mimetype": "text/x-python",
            "name": "python",
            "nbconvert_exporter": "python",
            "pygments_lexer": "ipython3",
            "version": "3.7.3"
        }
    },
    "nbformat": 4,
    "nbformat_minor": 4
}